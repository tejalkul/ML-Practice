{
 "cells": [
  {
   "cell_type": "code",
   "execution_count": 2,
   "id": "2a2cea88-2fc7-460f-a0a5-1fd98fa6118f",
   "metadata": {},
   "outputs": [],
   "source": [
    "import torch\n",
    "import torch.nn as nn\n",
    "import torch.optim as optim\n",
    "from torchvision import transforms\n",
    "from torch.utils.data import Dataset, DataLoader\n",
    "from torchvision.datasets import ImageFolder\n",
    "from tqdm import tqdm\n",
    "import numpy as np\n",
    "\n",
    "import torch.optim as optim\n",
    "import torch.nn.functional as F\n",
    "import torchvision\n",
    "from torchvision import transforms\n",
    "\n",
    "import time\n",
    "import matplotlib.pyplot as plt\n",
    "\n",
    "\n",
    "import warnings\n",
    "warnings.filterwarnings(\"ignore\")"
   ]
  },
  {
   "cell_type": "code",
   "execution_count": 3,
   "id": "0af6744b-5991-4c53-8fa4-74a7951fee15",
   "metadata": {},
   "outputs": [
    {
     "name": "stdout",
     "output_type": "stream",
     "text": [
      "Files already downloaded and verified\n",
      "Files already downloaded and verified\n",
      "Files already downloaded and verified\n",
      "Files already downloaded and verified\n",
      "6\n"
     ]
    },
    {
     "data": {
      "image/png": "[encoded data removed]",
      "text/plain": [
       "<PIL.Image.Image image mode=RGB size=32x32 at 0x7FFEAF3388B0>"
      ]
     },
     "metadata": {},
     "output_type": "display_data"
    }
   ],
   "source": [
    "to_tensor_transform =transforms.Compose([\n",
    "                           transforms.RandomHorizontalFlip(p=0.5),\n",
    "                           transforms.ToTensor(),\n",
    "                           transforms.Normalize(mean=[0.485,0.456,0.406], std=[0.229,0.224,0.225]) # Normalize the Image        #ImageNet mean and std hence can be used for similar datasets)\n",
    "                       ])\n",
    "\n",
    "train = torchvision.datasets.CIFAR10(\"REU/data/\",train = True,download = True,transform=None)       #Convert into tensors using transforms\n",
    "test = torchvision.datasets.CIFAR10(\"REU/data/\",train = False,download = True,transform = None)\n",
    "\n",
    "\n",
    "\n",
    "\n",
    "trainset = torchvision.datasets.CIFAR10(\"REU/data/\",train = True,download = True,transform = to_tensor_transform)       #Convert into tensors using transforms\n",
    "testset = torchvision.datasets.CIFAR10(\"REU/data/\",train = False,download = True,transform = to_tensor_transform)\n",
    "\n",
    "for data,label in train:\n",
    "    print(label)\n",
    "    display(data)\n",
    "    break\n",
    "    \n",
    "    \n",
    "\n",
    "    \n",
    "    \n"
   ]
  },
  {
   "cell_type": "code",
   "execution_count": 4,
   "id": "48a5fad6-68ca-4bc6-8bc1-471602e979df",
   "metadata": {},
   "outputs": [
    {
     "name": "stdout",
     "output_type": "stream",
     "text": [
      "torch.Size([4, 3, 32, 32])\n",
      "tensor([1, 5, 6, 4])\n"
     ]
    }
   ],
   "source": [
    "batch_size = 4\n",
    "\n",
    "trainloader = torch.utils.data.DataLoader(trainset, batch_size=batch_size, shuffle=True, num_workers=2)\n",
    "testloader = torch.utils.data.DataLoader(testset, batch_size=batch_size, shuffle=False, num_workers=2)\n",
    "\n",
    "for images,labels in trainloader:\n",
    "    print(images.shape)\n",
    "    print(labels)\n",
    "    break"
   ]
  },
  {
   "cell_type": "code",
   "execution_count": 5,
   "id": "c03c60e1-b300-45a7-b95b-7581ed41de55",
   "metadata": {},
   "outputs": [
    {
     "data": {
      "text/plain": [
       "torch.Size([1, 10])"
      ]
     },
     "execution_count": 5,
     "metadata": {},
     "output_type": "execute_result"
    }
   ],
   "source": [
    "torch.seed()\n",
    "\n",
    "class CNN(nn.Module):\n",
    "    def __init__(self, classes=10, dropout_p=0.5):\n",
    "        super().__init__()\n",
    "        self.classes = classes\n",
    "\n",
    "        self.feature_extractor = nn.Sequential(\n",
    "                nn.Conv2d(in_channels=3, out_channels=64, kernel_size=3, stride=1, padding=0),\n",
    "                nn.ReLU(),\n",
    "                nn.MaxPool2d(kernel_size=3, stride=1),  \n",
    "                nn.BatchNorm2d(num_features=64), # ADDED IN BATCHNORM\n",
    "\n",
    "                nn.Conv2d(in_channels=64, out_channels=64, kernel_size=5, stride=1, padding=1),\n",
    "                nn.ReLU(),\n",
    "                nn.MaxPool2d(kernel_size=5, stride=1),  \n",
    "                nn.BatchNorm2d(num_features=64), # ADDED IN BATCHNORM\n",
    "            \n",
    "                nn.Conv2d(in_channels=64, out_channels=64, kernel_size=3, stride=1, padding=1),\n",
    "                nn.ReLU(),\n",
    "                nn.MaxPool2d(kernel_size=3, stride=1),  \n",
    "                nn.BatchNorm2d(num_features=64), # ADDED IN BATCHNORM\n",
    "            \n",
    "                nn.Conv2d(in_channels=64, out_channels=64, kernel_size=3, stride=3, padding=1),\n",
    "                nn.ReLU(),\n",
    "                nn.MaxPool2d(kernel_size=3, stride=1),  \n",
    "                nn.BatchNorm2d(num_features=64), # ADDED IN BATCHNORM\n",
    "\n",
    "\n",
    "        )\n",
    "\n",
    "        self.avgpool = nn.AdaptiveAvgPool2d((6,6))\n",
    "\n",
    "        self.head = nn.Sequential(\n",
    "                nn.Dropout(dropout_p),\n",
    "                nn.Linear(64*6*6,128 ),\n",
    "                nn.ReLU(),\n",
    "                nn.Dropout(dropout_p),\n",
    "                nn.Linear(128, 128),\n",
    "                nn.ReLU(),\n",
    "                nn.Linear(128, classes)\n",
    "        )\n",
    "        \n",
    "    def forward(self, x):\n",
    "        batch_size = x.shape[0]\n",
    "        \n",
    "        x = self.feature_extractor(x)\n",
    "        x = self.avgpool(x)\n",
    "        x = x.reshape(batch_size, -1)\n",
    "        x = self.head(x)\n",
    "        return x\n",
    "        \n",
    "    \n",
    "rand = torch.rand(1,3, 32, 32) \n",
    "\n",
    "model = CNN()\n",
    "out = model(rand)\n",
    "out.shape\n"
   ]
  },
  {
   "cell_type": "code",
   "execution_count": 6,
   "id": "503c7806-fdc6-4f83-898c-5188563914f0",
   "metadata": {},
   "outputs": [
    {
     "data": {
      "text/plain": [
       "torch.Size([1, 10])"
      ]
     },
     "execution_count": 6,
     "metadata": {},
     "output_type": "execute_result"
    }
   ],
   "source": [
    "rand = torch.rand(1,3, 128, 128) \n",
    "\n",
    "model = CNN()\n",
    "out = model(rand)\n",
    "out.shape"
   ]
  },
  {
   "cell_type": "code",
   "execution_count": 7,
   "id": "a1f5b41c-6543-4f91-b0b4-ec10720a0626",
   "metadata": {},
   "outputs": [
    {
     "name": "stdout",
     "output_type": "stream",
     "text": [
      "Training on Device cuda\n",
      "Starting epoch 1\n",
      "Training Loss: 1.5601817745542526\n",
      "Training Acc: 0.43864\n",
      "Validation Loss: 1.080584330162406\n",
      "Validation Acc: 0.6184\n",
      "Starting epoch 2\n",
      "Training Loss: 1.2300656468904019\n",
      "Training Acc: 0.57028\n",
      "Validation Loss: 0.9480088505007327\n",
      "Validation Acc: 0.665\n",
      "Starting epoch 3\n",
      "Training Loss: 1.1118204036778212\n",
      "Training Acc: 0.61296\n",
      "Validation Loss: 0.8713622816280462\n",
      "Validation Acc: 0.6995\n",
      "Starting epoch 4\n",
      "Training Loss: 1.033765976626519\n",
      "Training Acc: 0.6428\n",
      "Validation Loss: 0.818405616896227\n",
      "Validation Acc: 0.7189\n",
      "Starting epoch 5\n",
      "Training Loss: 0.9895792538491637\n",
      "Training Acc: 0.65984\n",
      "Validation Loss: 0.8093693964445032\n",
      "Validation Acc: 0.7225\n",
      "Starting epoch 6\n",
      "Training Loss: 0.9422374414794147\n",
      "Training Acc: 0.67622\n",
      "Validation Loss: 0.7676063749638852\n",
      "Validation Acc: 0.7322\n",
      "Starting epoch 7\n",
      "Training Loss: 0.9139640472128615\n",
      "Training Acc: 0.68446\n",
      "Validation Loss: 0.7431555233261548\n",
      "Validation Acc: 0.745\n",
      "Starting epoch 8\n",
      "Training Loss: 0.883058401791267\n",
      "Training Acc: 0.69614\n",
      "Validation Loss: 0.7271157567686402\n",
      "Validation Acc: 0.7518\n",
      "Starting epoch 9\n",
      "Training Loss: 0.8589005949925073\n",
      "Training Acc: 0.70716\n",
      "Validation Loss: 0.6872640260594665\n",
      "Validation Acc: 0.7687\n",
      "Starting epoch 10\n",
      "Training Loss: 0.852298519859016\n",
      "Training Acc: 0.71084\n",
      "Validation Loss: 0.6882018320234027\n",
      "Validation Acc: 0.7667\n",
      "Starting epoch 11\n",
      "Training Loss: 0.8261607213526498\n",
      "Training Acc: 0.71776\n",
      "Validation Loss: 0.6750373127385974\n",
      "Validation Acc: 0.7721\n",
      "Starting epoch 12\n",
      "Training Loss: 0.8026172261795774\n",
      "Training Acc: 0.72504\n",
      "Validation Loss: 0.6638306413697079\n",
      "Validation Acc: 0.7753\n",
      "Starting epoch 13\n",
      "Training Loss: 0.7914514565929678\n",
      "Training Acc: 0.72874\n",
      "Validation Loss: 0.647363262038026\n",
      "Validation Acc: 0.7778\n",
      "Starting epoch 14\n",
      "Training Loss: 0.7783730044128746\n",
      "Training Acc: 0.73574\n",
      "Validation Loss: 0.6408516098958906\n",
      "Validation Acc: 0.7838\n",
      "Starting epoch 15\n",
      "Training Loss: 0.7658822503066249\n",
      "Training Acc: 0.73972\n",
      "Validation Loss: 0.6345111136845953\n",
      "Validation Acc: 0.7859\n",
      "Starting epoch 16\n",
      "Training Loss: 0.7515983604970854\n",
      "Training Acc: 0.74458\n",
      "Validation Loss: 0.61114023684524\n",
      "Validation Acc: 0.7955\n",
      "Starting epoch 17\n",
      "Training Loss: 0.7433451136256196\n",
      "Training Acc: 0.74842\n",
      "Validation Loss: 0.6237135198550532\n",
      "Validation Acc: 0.7869\n",
      "Starting epoch 18\n",
      "Training Loss: 0.7293344058800395\n",
      "Training Acc: 0.75316\n",
      "Validation Loss: 0.6095078648954863\n",
      "Validation Acc: 0.7981\n",
      "Starting epoch 19\n",
      "Training Loss: 0.7188776779362821\n",
      "Training Acc: 0.7568\n",
      "Validation Loss: 0.5971698036627379\n",
      "Validation Acc: 0.7996\n",
      "Starting epoch 20\n",
      "Training Loss: 0.7118831246555504\n",
      "Training Acc: 0.75818\n",
      "Validation Loss: 0.5986830340066517\n",
      "Validation Acc: 0.7988\n"
     ]
    }
   ],
   "source": [
    "### SELECT DEVICE ###\n",
    "DEVICE = \"cuda\" if torch.cuda.is_available() else \"cpu\"\n",
    "print(f\"Training on Device {DEVICE}\")\n",
    "\n",
    "### LOAD IN and Modify CNN Model ###\n",
    "model = CNN()\n",
    "model = model.to(DEVICE)\n",
    "\n",
    "### MODEL TRAINING INPUTS ###\n",
    "epochs = 20\n",
    "optimizer = optim.Adam(params=model.parameters(), lr=0.0001)\n",
    "loss_fn = nn.CrossEntropyLoss()\n",
    "\n",
    "train_loss = []\n",
    "test_loss = []\n",
    "train_accuracy = []\n",
    "test_accuracy = []\n",
    "\n",
    "for epoch in range(1,epochs+1):\n",
    "    training_losses = []\n",
    "    test_losses = []\n",
    "    train_accuracies = []\n",
    "    test_accuracies = [] \n",
    "    print(f\"Starting epoch {epoch}\")\n",
    "    \n",
    "    model.train()\n",
    "          \n",
    "    for image,label in trainloader:\n",
    "        image,label = image.to(DEVICE),label.to(DEVICE)\n",
    "\n",
    "        optimizer.zero_grad()\n",
    "        out = model.forward(image)\n",
    "\n",
    "        ### CALCULATE LOSS ##\n",
    "        loss = loss_fn(out, label)\n",
    "        training_losses.append(loss.item())\n",
    "\n",
    "        ### CALCULATE ACCURACY ###\n",
    "        predictions = torch.argmax(out, axis=1)\n",
    "        accuracy = (predictions == label).sum() / len(predictions)\n",
    "        train_accuracies.append(accuracy.item())\n",
    "\n",
    "        loss.backward()\n",
    "        optimizer.step()\n",
    "\n",
    "    model.eval() # Turn Off Batchnorm \n",
    "    for image, label in testloader:\n",
    "        image, label = image.to(DEVICE), label.to(DEVICE)\n",
    "        with torch.no_grad():\n",
    "            out = model.forward(image)\n",
    "\n",
    "            ### CALCULATE LOSS ##\n",
    "            loss = loss_fn(out, label)\n",
    "            test_losses.append(loss.item())\n",
    "\n",
    "            ### CALCULATE ACCURACY ###\n",
    "            predictions = torch.argmax(out, axis=1)\n",
    "            accuracy = (predictions == label).sum() / len(predictions)\n",
    "            test_accuracies.append(accuracy.item())\n",
    "\n",
    "    training_loss_mean, training_acc_mean = np.mean(training_losses), np.mean(train_accuracies)\n",
    "    valid_loss_mean, valid_acc_mean = np.mean(test_losses), np.mean(test_accuracies)\n",
    "          \n",
    "          \n",
    "    train_loss.append(training_loss_mean)\n",
    "    test_loss.append(valid_loss_mean)\n",
    "    train_accuracy.append(training_acc_mean)\n",
    "    test_accuracy.append(valid_acc_mean)\n",
    "          \n",
    "    print(\"Training Loss:\", training_loss_mean) \n",
    "    print(\"Training Acc:\", training_acc_mean)\n",
    "    print(\"Validation Loss:\", valid_loss_mean)\n",
    "    print(\"Validation Acc:\", valid_acc_mean)      \n",
    "          \n",
    "    \n",
    "    \n",
    "    \n",
    "    "
   ]
  },
  {
   "cell_type": "code",
   "execution_count": null,
   "id": "99e59e22-52a5-449d-af65-af3f4878cf36",
   "metadata": {},
   "outputs": [],
   "source": [
    "#Change lr = 0.0001\n",
    "#Output channels in Layer1 = 64\n",
    "#Output (6,6)\n",
    "\n",
    "\n",
    "##Added 2 more layers\n",
    "#made kernel size 3 for last 2 layers"
   ]
  },
  {
   "cell_type": "code",
   "execution_count": 9,
   "id": "e4304ceb-ee3e-4e6d-a129-869b3b450610",
   "metadata": {},
   "outputs": [
    {
     "data": {
      "image/png": "[encoded data removed]",
      "text/plain": [
       "<Figure size 432x288 with 1 Axes>"
      ]
     },
     "metadata": {
      "needs_background": "light"
     },
     "output_type": "display_data"
    }
   ],
   "source": [
    "x = list(range(epochs))\n",
    "plt.plot(x, train_loss, label=\"Training Curve\")\n",
    "plt.plot(x, test_loss, label=\"Validation Curve\")\n",
    "plt.legend()\n",
    "plt.show()"
   ]
  },
  {
   "cell_type": "code",
   "execution_count": null,
   "id": "a537ef7a-a995-4310-8f66-c8182b12de41",
   "metadata": {},
   "outputs": [],
   "source": []
  }
 ],
 "metadata": {
  "kernelspec": {
   "display_name": "Python [conda env:opence-v1.5.1]",
   "language": "python",
   "name": "conda-env-opence-v1.5.1-py"
  },
  "language_info": {
   "codemirror_mode": {
    "name": "ipython",
    "version": 3
   },
   "file_extension": ".py",
   "mimetype": "text/x-python",
   "name": "python",
   "nbconvert_exporter": "python",
   "pygments_lexer": "ipython3",
   "version": "3.9.12"
  }
 },
 "nbformat": 4,
 "nbformat_minor": 5
}
